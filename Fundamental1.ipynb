{
 "cells": [
  {
   "cell_type": "markdown",
   "id": "7674aa96",
   "metadata": {},
   "source": [
    "## Python Fundamentals"
   ]
  },
  {
   "cell_type": "markdown",
   "id": "bd7ae74a",
   "metadata": {},
   "source": [
    "### Variables"
   ]
  },
  {
   "cell_type": "code",
   "execution_count": 1,
   "id": "5cfaad5e",
   "metadata": {},
   "outputs": [
    {
     "data": {
      "text/plain": [
       "'\\n1. Numbers\\n2. String\\n3. List/Tuples/Arrays/Dictionaries\\n4. Boolean\\n\\n'"
      ]
     },
     "execution_count": 1,
     "metadata": {},
     "output_type": "execute_result"
    }
   ],
   "source": [
    "# This is to explain Variables\n",
    "\n",
    "'''\n",
    "1. Numbers\n",
    "2. String\n",
    "3. List/Tuples/Arrays/Dictionaries/Set -- store multiple values in a variable\n",
    "4. Boolean\n",
    "\n",
    "'''"
   ]
  },
  {
   "cell_type": "code",
   "execution_count": 3,
   "id": "dca72b1a",
   "metadata": {},
   "outputs": [],
   "source": [
    "x = 4\n",
    "y= 'Sample string'\n",
    "name = 'Bayo'"
   ]
  },
  {
   "cell_type": "code",
   "execution_count": 4,
   "id": "74b46681",
   "metadata": {},
   "outputs": [],
   "source": [
    "y = 6"
   ]
  },
  {
   "cell_type": "code",
   "execution_count": 5,
   "id": "70099219",
   "metadata": {},
   "outputs": [],
   "source": [
    "sum = x + y"
   ]
  },
  {
   "cell_type": "code",
   "execution_count": 6,
   "id": "b86f5cb9",
   "metadata": {},
   "outputs": [
    {
     "name": "stdout",
     "output_type": "stream",
     "text": [
      "10\n"
     ]
    }
   ],
   "source": [
    "print(sum)"
   ]
  },
  {
   "cell_type": "code",
   "execution_count": 9,
   "id": "bc6579ef",
   "metadata": {},
   "outputs": [
    {
     "name": "stdout",
     "output_type": "stream",
     "text": [
      "The sum  is 10 of x and y \n"
     ]
    }
   ],
   "source": [
    "print(f'The sum  is {sum} of x and y ')"
   ]
  },
  {
   "cell_type": "code",
   "execution_count": 10,
   "id": "6acabaf3",
   "metadata": {},
   "outputs": [],
   "source": [
    "x = 9.5"
   ]
  },
  {
   "cell_type": "code",
   "execution_count": 11,
   "id": "44082dfd",
   "metadata": {},
   "outputs": [],
   "source": [
    "hasMortgage = True"
   ]
  },
  {
   "cell_type": "code",
   "execution_count": 13,
   "id": "28290161",
   "metadata": {},
   "outputs": [],
   "source": [
    "hasMortgage = False"
   ]
  },
  {
   "cell_type": "code",
   "execution_count": 14,
   "id": "fd6dc9c2",
   "metadata": {},
   "outputs": [
    {
     "data": {
      "text/plain": [
       "bool"
      ]
     },
     "execution_count": 14,
     "metadata": {},
     "output_type": "execute_result"
    }
   ],
   "source": [
    "type(hasMortgage)"
   ]
  },
  {
   "cell_type": "code",
   "execution_count": 15,
   "id": "10162847",
   "metadata": {},
   "outputs": [
    {
     "data": {
      "text/plain": [
       "float"
      ]
     },
     "execution_count": 15,
     "metadata": {},
     "output_type": "execute_result"
    }
   ],
   "source": [
    "type(x)"
   ]
  },
  {
   "cell_type": "code",
   "execution_count": 16,
   "id": "d3a13989",
   "metadata": {},
   "outputs": [
    {
     "data": {
      "text/plain": [
       "int"
      ]
     },
     "execution_count": 16,
     "metadata": {},
     "output_type": "execute_result"
    }
   ],
   "source": [
    "type(y)"
   ]
  },
  {
   "cell_type": "code",
   "execution_count": 17,
   "id": "5f626a85",
   "metadata": {},
   "outputs": [
    {
     "data": {
      "text/plain": [
       "str"
      ]
     },
     "execution_count": 17,
     "metadata": {},
     "output_type": "execute_result"
    }
   ],
   "source": [
    "type(name)"
   ]
  },
  {
   "cell_type": "code",
   "execution_count": 18,
   "id": "51a1d9ee",
   "metadata": {},
   "outputs": [],
   "source": [
    "scores = [98, 78, 53, 24]  #index - start from 0 first value, -1, from the last value)"
   ]
  },
  {
   "cell_type": "code",
   "execution_count": 19,
   "id": "8afeb6ff",
   "metadata": {},
   "outputs": [
    {
     "data": {
      "text/plain": [
       "list"
      ]
     },
     "execution_count": 19,
     "metadata": {},
     "output_type": "execute_result"
    }
   ],
   "source": [
    "type(scores)"
   ]
  },
  {
   "cell_type": "code",
   "execution_count": 22,
   "id": "475ecc5a",
   "metadata": {},
   "outputs": [],
   "source": [
    "scores_tuple =(95, 52, 22, 32, 34, 32)"
   ]
  },
  {
   "cell_type": "code",
   "execution_count": 23,
   "id": "1b111923",
   "metadata": {},
   "outputs": [
    {
     "data": {
      "text/plain": [
       "tuple"
      ]
     },
     "execution_count": 23,
     "metadata": {},
     "output_type": "execute_result"
    }
   ],
   "source": [
    "type(scores_tuple)"
   ]
  },
  {
   "cell_type": "code",
   "execution_count": 24,
   "id": "a628de9f",
   "metadata": {},
   "outputs": [],
   "source": [
    "set_scores_tuple= set(scores_tuple)"
   ]
  },
  {
   "cell_type": "code",
   "execution_count": 25,
   "id": "904764ef",
   "metadata": {},
   "outputs": [
    {
     "name": "stdout",
     "output_type": "stream",
     "text": [
      "{32, 34, 52, 22, 95}\n"
     ]
    }
   ],
   "source": [
    "print(set_scores_tuple)"
   ]
  },
  {
   "cell_type": "code",
   "execution_count": 26,
   "id": "76a7996d",
   "metadata": {},
   "outputs": [],
   "source": [
    "newSet = {45, 69,\"sd\"}"
   ]
  },
  {
   "cell_type": "code",
   "execution_count": 27,
   "id": "6a051296",
   "metadata": {},
   "outputs": [],
   "source": [
    "## compare and contrast - set, list and tuple"
   ]
  },
  {
   "cell_type": "code",
   "execution_count": 30,
   "id": "d1af5e3f",
   "metadata": {},
   "outputs": [
    {
     "data": {
      "text/plain": [
       "24"
      ]
     },
     "execution_count": 30,
     "metadata": {},
     "output_type": "execute_result"
    }
   ],
   "source": [
    "scores[3]"
   ]
  },
  {
   "cell_type": "markdown",
   "id": "23eacc7f",
   "metadata": {},
   "source": [
    "#### Concatenate strings"
   ]
  },
  {
   "cell_type": "code",
   "execution_count": 31,
   "id": "1a0c8828",
   "metadata": {},
   "outputs": [],
   "source": [
    "a = \"Hello\"  # list; list of characters, make of use indexes. a[3] indexes from 0."
   ]
  },
  {
   "cell_type": "code",
   "execution_count": 32,
   "id": "488024c4",
   "metadata": {},
   "outputs": [],
   "source": [
    "b = \"Data Analysis students\""
   ]
  },
  {
   "cell_type": "code",
   "execution_count": 39,
   "id": "918329bf",
   "metadata": {},
   "outputs": [],
   "source": [
    "c= a +\"\\n\" + b # escape character with strings \\t, \\n "
   ]
  },
  {
   "cell_type": "code",
   "execution_count": 40,
   "id": "4ada6e37",
   "metadata": {},
   "outputs": [
    {
     "name": "stdout",
     "output_type": "stream",
     "text": [
      "Hello\n",
      "Data Analysis students\n"
     ]
    }
   ],
   "source": [
    "print(c)"
   ]
  },
  {
   "cell_type": "code",
   "execution_count": 41,
   "id": "d9ccbd12",
   "metadata": {},
   "outputs": [
    {
     "data": {
      "text/plain": [
       "'l'"
      ]
     },
     "execution_count": 41,
     "metadata": {},
     "output_type": "execute_result"
    }
   ],
   "source": [
    "a[3]"
   ]
  },
  {
   "cell_type": "code",
   "execution_count": 42,
   "id": "a026e5aa",
   "metadata": {},
   "outputs": [
    {
     "data": {
      "text/plain": [
       "'o'"
      ]
     },
     "execution_count": 42,
     "metadata": {},
     "output_type": "execute_result"
    }
   ],
   "source": [
    "a[4]"
   ]
  },
  {
   "cell_type": "code",
   "execution_count": 43,
   "id": "1b216e08",
   "metadata": {},
   "outputs": [
    {
     "data": {
      "text/plain": [
       "'el'"
      ]
     },
     "execution_count": 43,
     "metadata": {},
     "output_type": "execute_result"
    }
   ],
   "source": [
    "a[1:3] # will start from index 1, and stop at 2. Index 3 will be excluded"
   ]
  },
  {
   "cell_type": "markdown",
   "id": "ecb62021",
   "metadata": {},
   "source": [
    "#### Conditional Statements"
   ]
  },
  {
   "cell_type": "code",
   "execution_count": 45,
   "id": "0c90b83a",
   "metadata": {},
   "outputs": [
    {
     "data": {
      "text/plain": [
       "'compare if Equality ==\\n>\\n>=\\n<\\n<=\\n'"
      ]
     },
     "execution_count": 45,
     "metadata": {},
     "output_type": "execute_result"
    }
   ],
   "source": [
    "'''compare if Equality ==\n",
    ">\n",
    ">=\n",
    "<\n",
    "<=\n",
    "!=\n",
    "'''"
   ]
  },
  {
   "cell_type": "code",
   "execution_count": 46,
   "id": "48d223aa",
   "metadata": {},
   "outputs": [],
   "source": [
    "x = 4"
   ]
  },
  {
   "cell_type": "code",
   "execution_count": 47,
   "id": "d0cfb4dc",
   "metadata": {},
   "outputs": [
    {
     "data": {
      "text/plain": [
       "False"
      ]
     },
     "execution_count": 47,
     "metadata": {},
     "output_type": "execute_result"
    }
   ],
   "source": [
    "x != 4"
   ]
  },
  {
   "cell_type": "code",
   "execution_count": 48,
   "id": "2751cec4",
   "metadata": {},
   "outputs": [
    {
     "data": {
      "text/plain": [
       "False"
      ]
     },
     "execution_count": 48,
     "metadata": {},
     "output_type": "execute_result"
    }
   ],
   "source": [
    "x > 4"
   ]
  },
  {
   "cell_type": "code",
   "execution_count": 49,
   "id": "97d0eb6e",
   "metadata": {},
   "outputs": [
    {
     "data": {
      "text/plain": [
       "True"
      ]
     },
     "execution_count": 49,
     "metadata": {},
     "output_type": "execute_result"
    }
   ],
   "source": [
    "x==4"
   ]
  },
  {
   "cell_type": "code",
   "execution_count": 51,
   "id": "a6576c65",
   "metadata": {},
   "outputs": [
    {
     "data": {
      "text/plain": [
       "False"
      ]
     },
     "execution_count": 51,
     "metadata": {},
     "output_type": "execute_result"
    }
   ],
   "source": [
    "x == '4'"
   ]
  },
  {
   "cell_type": "code",
   "execution_count": 52,
   "id": "050aa5aa",
   "metadata": {},
   "outputs": [
    {
     "data": {
      "text/plain": [
       "True"
      ]
     },
     "execution_count": 52,
     "metadata": {},
     "output_type": "execute_result"
    }
   ],
   "source": [
    "x == int('4')"
   ]
  },
  {
   "cell_type": "code",
   "execution_count": 53,
   "id": "d4788ff0",
   "metadata": {},
   "outputs": [],
   "source": [
    "y = 32"
   ]
  },
  {
   "cell_type": "code",
   "execution_count": 57,
   "id": "abb763cd",
   "metadata": {},
   "outputs": [
    {
     "name": "stdout",
     "output_type": "stream",
     "text": [
      "The value of y:  32 is greater than the value of x: 4\n"
     ]
    }
   ],
   "source": [
    "if y>x:  #Indentation is key in Python.\n",
    "    print(f'The value of y:  {y} is greater than the value of x: {x}')"
   ]
  },
  {
   "cell_type": "code",
   "execution_count": 65,
   "id": "a96cd71d",
   "metadata": {},
   "outputs": [
    {
     "name": "stdout",
     "output_type": "stream",
     "text": [
      "equal number\n"
     ]
    }
   ],
   "source": [
    "num1 = 300\n",
    "num2 = 300\n",
    "\n",
    "if (num1 > num2):\n",
    "    print('num1 is a bigger number')\n",
    "elif (num1 < num2):\n",
    "    print('num1 is a smaller number')\n",
    "else:\n",
    "    print('equal number')"
   ]
  },
  {
   "cell_type": "code",
   "execution_count": null,
   "id": "11c006e3",
   "metadata": {},
   "outputs": [],
   "source": []
  }
 ],
 "metadata": {
  "kernelspec": {
   "display_name": "Python 3 (ipykernel)",
   "language": "python",
   "name": "python3"
  },
  "language_info": {
   "codemirror_mode": {
    "name": "ipython",
    "version": 3
   },
   "file_extension": ".py",
   "mimetype": "text/x-python",
   "name": "python",
   "nbconvert_exporter": "python",
   "pygments_lexer": "ipython3",
   "version": "3.11.4"
  }
 },
 "nbformat": 4,
 "nbformat_minor": 5
}
