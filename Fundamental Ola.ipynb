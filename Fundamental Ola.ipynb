{
 "cells": [
  {
   "cell_type": "markdown",
   "id": "189bb7e6",
   "metadata": {},
   "source": [
    "## Python Fundamentals"
   ]
  },
  {
   "cell_type": "markdown",
   "id": "20f7a7d3",
   "metadata": {},
   "source": [
    "## Variables"
   ]
  },
  {
   "cell_type": "code",
   "execution_count": 54,
   "id": "9e947bdf",
   "metadata": {
    "scrolled": true
   },
   "outputs": [
    {
     "data": {
      "text/plain": [
       "'This is to explain variables \\n\\n1. Numbers\\n2. Strings\\n3. List/Tuples/Arrays/Dictionaries --- to store multiple values in a variable.\\n4. Boolean\\n'"
      ]
     },
     "execution_count": 54,
     "metadata": {},
     "output_type": "execute_result"
    }
   ],
   "source": [
    "'''This is to explain variables \n",
    "\n",
    "1. Numbers\n",
    "2. Strings\n",
    "3. List/Tuples/Arrays/Dictionaries --- to store multiple values in a variable.\n",
    "4. Boolean\n",
    "'''\n"
   ]
  },
  {
   "cell_type": "code",
   "execution_count": 49,
   "id": "3349c8f6",
   "metadata": {},
   "outputs": [],
   "source": [
    "x= 4\n",
    "y='Sample string'\n",
    "name = 'Olatunde'"
   ]
  },
  {
   "cell_type": "code",
   "execution_count": 3,
   "id": "741a2d7e",
   "metadata": {},
   "outputs": [],
   "source": [
    "y= 6"
   ]
  },
  {
   "cell_type": "code",
   "execution_count": 5,
   "id": "c2d444b0",
   "metadata": {},
   "outputs": [],
   "source": [
    "sum = x+y"
   ]
  },
  {
   "cell_type": "code",
   "execution_count": 9,
   "id": "57cfcdc4",
   "metadata": {},
   "outputs": [
    {
     "name": "stdout",
     "output_type": "stream",
     "text": [
      "10\n"
     ]
    }
   ],
   "source": [
    "print(sum)"
   ]
  },
  {
   "cell_type": "code",
   "execution_count": 10,
   "id": "028ff7b1",
   "metadata": {},
   "outputs": [
    {
     "name": "stdout",
     "output_type": "stream",
     "text": [
      "The sum of x and y is 10\n"
     ]
    }
   ],
   "source": [
    "print(f'The sum of x and y is {sum}')"
   ]
  },
  {
   "cell_type": "code",
   "execution_count": 11,
   "id": "a35b03c6",
   "metadata": {},
   "outputs": [],
   "source": [
    "x = 9.5"
   ]
  },
  {
   "cell_type": "code",
   "execution_count": 12,
   "id": "cd9675bb",
   "metadata": {},
   "outputs": [],
   "source": [
    "hasMortgage = True"
   ]
  },
  {
   "cell_type": "code",
   "execution_count": 13,
   "id": "1164576b",
   "metadata": {},
   "outputs": [],
   "source": [
    "hasMortgage = False"
   ]
  },
  {
   "cell_type": "code",
   "execution_count": 14,
   "id": "f312307b",
   "metadata": {},
   "outputs": [
    {
     "data": {
      "text/plain": [
       "bool"
      ]
     },
     "execution_count": 14,
     "metadata": {},
     "output_type": "execute_result"
    }
   ],
   "source": [
    "type(hasMortgage)"
   ]
  },
  {
   "cell_type": "code",
   "execution_count": 15,
   "id": "f3f9fcfb",
   "metadata": {},
   "outputs": [
    {
     "data": {
      "text/plain": [
       "float"
      ]
     },
     "execution_count": 15,
     "metadata": {},
     "output_type": "execute_result"
    }
   ],
   "source": [
    "type(x)"
   ]
  },
  {
   "cell_type": "code",
   "execution_count": 16,
   "id": "be325160",
   "metadata": {},
   "outputs": [
    {
     "data": {
      "text/plain": [
       "int"
      ]
     },
     "execution_count": 16,
     "metadata": {},
     "output_type": "execute_result"
    }
   ],
   "source": [
    "type(y)"
   ]
  },
  {
   "cell_type": "code",
   "execution_count": 17,
   "id": "6b312552",
   "metadata": {},
   "outputs": [
    {
     "data": {
      "text/plain": [
       "str"
      ]
     },
     "execution_count": 17,
     "metadata": {},
     "output_type": "execute_result"
    }
   ],
   "source": [
    "type(name)"
   ]
  },
  {
   "cell_type": "code",
   "execution_count": 18,
   "id": "31c716d6",
   "metadata": {},
   "outputs": [],
   "source": [
    "score = [98, 78, 53, 24]  #index -start from 0 first value, -1, from the last value)"
   ]
  },
  {
   "cell_type": "code",
   "execution_count": 19,
   "id": "9ab0a13a",
   "metadata": {},
   "outputs": [
    {
     "data": {
      "text/plain": [
       "list"
      ]
     },
     "execution_count": 19,
     "metadata": {},
     "output_type": "execute_result"
    }
   ],
   "source": [
    "type(score)"
   ]
  },
  {
   "cell_type": "code",
   "execution_count": 20,
   "id": "ccc6edb7",
   "metadata": {},
   "outputs": [],
   "source": [
    "score_tuple = (95,52,22,32)"
   ]
  },
  {
   "cell_type": "code",
   "execution_count": 21,
   "id": "269d2a82",
   "metadata": {},
   "outputs": [
    {
     "data": {
      "text/plain": [
       "tuple"
      ]
     },
     "execution_count": 21,
     "metadata": {},
     "output_type": "execute_result"
    }
   ],
   "source": [
    "type(score_tuple)"
   ]
  },
  {
   "cell_type": "code",
   "execution_count": 22,
   "id": "1cdd8018",
   "metadata": {},
   "outputs": [],
   "source": [
    "set_scores_tuple = set(score_tuple)"
   ]
  },
  {
   "cell_type": "code",
   "execution_count": 23,
   "id": "4d83ba53",
   "metadata": {},
   "outputs": [
    {
     "name": "stdout",
     "output_type": "stream",
     "text": [
      "{32, 52, 22, 95}\n"
     ]
    }
   ],
   "source": [
    "print(set_scores_tuple)"
   ]
  },
  {
   "cell_type": "code",
   "execution_count": 25,
   "id": "bac1e353",
   "metadata": {},
   "outputs": [],
   "source": [
    "newSet = (45, 68, \"sd\")"
   ]
  },
  {
   "cell_type": "code",
   "execution_count": 26,
   "id": "46d31d1b",
   "metadata": {},
   "outputs": [],
   "source": [
    "## compare and contrast - set, list and tuple "
   ]
  },
  {
   "cell_type": "code",
   "execution_count": 28,
   "id": "05a146dc",
   "metadata": {},
   "outputs": [
    {
     "data": {
      "text/plain": [
       "98"
      ]
     },
     "execution_count": 28,
     "metadata": {},
     "output_type": "execute_result"
    }
   ],
   "source": [
    "score[0]"
   ]
  },
  {
   "cell_type": "code",
   "execution_count": 29,
   "id": "d4315aec",
   "metadata": {},
   "outputs": [
    {
     "data": {
      "text/plain": [
       "78"
      ]
     },
     "execution_count": 29,
     "metadata": {},
     "output_type": "execute_result"
    }
   ],
   "source": [
    "score[-3]"
   ]
  },
  {
   "cell_type": "code",
   "execution_count": 30,
   "id": "c3530e8f",
   "metadata": {},
   "outputs": [
    {
     "data": {
      "text/plain": [
       "24"
      ]
     },
     "execution_count": 30,
     "metadata": {},
     "output_type": "execute_result"
    }
   ],
   "source": [
    "score[-1]"
   ]
  },
  {
   "cell_type": "code",
   "execution_count": 32,
   "id": "d59fa426",
   "metadata": {},
   "outputs": [
    {
     "data": {
      "text/plain": [
       "24"
      ]
     },
     "execution_count": 32,
     "metadata": {},
     "output_type": "execute_result"
    }
   ],
   "source": [
    "score[3]"
   ]
  },
  {
   "cell_type": "markdown",
   "id": "1973413b",
   "metadata": {},
   "source": [
    "### Concatenate strings"
   ]
  },
  {
   "cell_type": "code",
   "execution_count": 33,
   "id": "3cc9d4f1",
   "metadata": {},
   "outputs": [],
   "source": [
    "a =\"Hello\" # list; list of characters and words, make use of indexes, a[3] indexes from 0."
   ]
  },
  {
   "cell_type": "code",
   "execution_count": 34,
   "id": "d87518c7",
   "metadata": {},
   "outputs": [],
   "source": [
    "b =\"Data Analysis Students\""
   ]
  },
  {
   "cell_type": "code",
   "execution_count": 42,
   "id": "44f82e65",
   "metadata": {},
   "outputs": [],
   "source": [
    "c = a +\"\\n\" + b #escape character[with strings \\t, \\n, \\\\]"
   ]
  },
  {
   "cell_type": "code",
   "execution_count": 43,
   "id": "cb85c439",
   "metadata": {},
   "outputs": [
    {
     "name": "stdout",
     "output_type": "stream",
     "text": [
      "Hello\n",
      "Data Analysis Students\n"
     ]
    }
   ],
   "source": [
    "print(c)"
   ]
  },
  {
   "cell_type": "code",
   "execution_count": 44,
   "id": "0d949b3c",
   "metadata": {},
   "outputs": [
    {
     "data": {
      "text/plain": [
       "'l'"
      ]
     },
     "execution_count": 44,
     "metadata": {},
     "output_type": "execute_result"
    }
   ],
   "source": [
    "a[3]"
   ]
  },
  {
   "cell_type": "code",
   "execution_count": 45,
   "id": "ab4db4c5",
   "metadata": {},
   "outputs": [
    {
     "data": {
      "text/plain": [
       "'H'"
      ]
     },
     "execution_count": 45,
     "metadata": {},
     "output_type": "execute_result"
    }
   ],
   "source": [
    "a[0]"
   ]
  },
  {
   "cell_type": "code",
   "execution_count": 46,
   "id": "dd8253e3",
   "metadata": {},
   "outputs": [
    {
     "data": {
      "text/plain": [
       "'el'"
      ]
     },
     "execution_count": 46,
     "metadata": {},
     "output_type": "execute_result"
    }
   ],
   "source": [
    "a[1:3] # will start from index 1, and stop at 2, index 3 will be excluded"
   ]
  },
  {
   "cell_type": "markdown",
   "id": "c84b844a",
   "metadata": {},
   "source": [
    "## Conditional  Statement"
   ]
  },
  {
   "cell_type": "code",
   "execution_count": 53,
   "id": "12d98317",
   "metadata": {},
   "outputs": [
    {
     "data": {
      "text/plain": [
       "'compare if Equality --\\n>\\n>=\\n<\\n<=\\n'"
      ]
     },
     "execution_count": 53,
     "metadata": {},
     "output_type": "execute_result"
    }
   ],
   "source": [
    "'''compare if Equality --\n",
    ">\n",
    ">=\n",
    "<\n",
    "<=\n",
    "'''\n"
   ]
  },
  {
   "cell_type": "code",
   "execution_count": 55,
   "id": "2a417d12",
   "metadata": {},
   "outputs": [],
   "source": [
    "x =4 (assigning a value)"
   ]
  },
  {
   "cell_type": "code",
   "execution_count": 56,
   "id": "dfd196d9",
   "metadata": {},
   "outputs": [
    {
     "data": {
      "text/plain": [
       "False"
      ]
     },
     "execution_count": 56,
     "metadata": {},
     "output_type": "execute_result"
    }
   ],
   "source": [
    "x != 4"
   ]
  },
  {
   "cell_type": "code",
   "execution_count": 57,
   "id": "a97112b8",
   "metadata": {},
   "outputs": [
    {
     "data": {
      "text/plain": [
       "False"
      ]
     },
     "execution_count": 57,
     "metadata": {},
     "output_type": "execute_result"
    }
   ],
   "source": [
    "x>4"
   ]
  },
  {
   "cell_type": "code",
   "execution_count": 58,
   "id": "88f8ca7c",
   "metadata": {},
   "outputs": [
    {
     "data": {
      "text/plain": [
       "True"
      ]
     },
     "execution_count": 58,
     "metadata": {},
     "output_type": "execute_result"
    }
   ],
   "source": [
    "x==4 (asking question)"
   ]
  },
  {
   "cell_type": "code",
   "execution_count": 59,
   "id": "ffbdc196",
   "metadata": {},
   "outputs": [
    {
     "data": {
      "text/plain": [
       "False"
      ]
     },
     "execution_count": 59,
     "metadata": {},
     "output_type": "execute_result"
    }
   ],
   "source": [
    "x =='4'"
   ]
  },
  {
   "cell_type": "code",
   "execution_count": 60,
   "id": "e7bedc8f",
   "metadata": {},
   "outputs": [
    {
     "data": {
      "text/plain": [
       "True"
      ]
     },
     "execution_count": 60,
     "metadata": {},
     "output_type": "execute_result"
    }
   ],
   "source": [
    "x== int('4')"
   ]
  },
  {
   "cell_type": "code",
   "execution_count": 61,
   "id": "1388943b",
   "metadata": {},
   "outputs": [],
   "source": [
    "y = 32"
   ]
  },
  {
   "cell_type": "code",
   "execution_count": 62,
   "id": "c5623103",
   "metadata": {},
   "outputs": [
    {
     "name": "stdout",
     "output_type": "stream",
     "text": [
      " The value of y: 32 is greater than the value of x: 4\n"
     ]
    }
   ],
   "source": [
    "if y>x: #indentation is key in python.\n",
    "    print(f' The value of y: {y} is greater than the value of x: {x}')"
   ]
  },
  {
   "cell_type": "code",
   "execution_count": 63,
   "id": "29587e16",
   "metadata": {},
   "outputs": [
    {
     "name": "stdout",
     "output_type": "stream",
     "text": [
      "equal number\n"
     ]
    }
   ],
   "source": [
    "num1 = 300\n",
    "num2 = 300\n",
    "    \n",
    "if (num1 > num2):\n",
    "    print('num1 is a bigger number')\n",
    "elif (num1 < num2):\n",
    "    print('num1 is a smaller number')\n",
    "else:\n",
    "    print('equal number')\n",
    "   \n"
   ]
  },
  {
   "cell_type": "code",
   "execution_count": 64,
   "id": "7fbb5a95",
   "metadata": {},
   "outputs": [
    {
     "name": "stdout",
     "output_type": "stream",
     "text": [
      "num1 is a smaller number\n"
     ]
    }
   ],
   "source": [
    "num1 = 200\n",
    "num2 = 300\n",
    "    \n",
    "if (num1 > num2):\n",
    "    print('num1 is a bigger number')\n",
    "elif (num1 < num2):\n",
    "    print('num1 is a smaller number')\n",
    "else:\n",
    "    print('equal number')\n"
   ]
  },
  {
   "cell_type": "code",
   "execution_count": 65,
   "id": "8f929b14",
   "metadata": {},
   "outputs": [
    {
     "name": "stdout",
     "output_type": "stream",
     "text": [
      "num1 is a bigger number\n"
     ]
    }
   ],
   "source": [
    "num1 = 400\n",
    "num2 = 300\n",
    "    \n",
    "if (num1 > num2):\n",
    "    print('num1 is a bigger number')\n",
    "elif (num1 < num2):\n",
    "    print('num1 is a smaller number')\n",
    "else:\n",
    "    print('equal number')\n"
   ]
  },
  {
   "cell_type": "code",
   "execution_count": null,
   "id": "e2d9a292",
   "metadata": {},
   "outputs": [],
   "source": []
  }
 ],
 "metadata": {
  "kernelspec": {
   "display_name": "Python 3 (ipykernel)",
   "language": "python",
   "name": "python3"
  },
  "language_info": {
   "codemirror_mode": {
    "name": "ipython",
    "version": 3
   },
   "file_extension": ".py",
   "mimetype": "text/x-python",
   "name": "python",
   "nbconvert_exporter": "python",
   "pygments_lexer": "ipython3",
   "version": "3.11.4"
  }
 },
 "nbformat": 4,
 "nbformat_minor": 5
}
