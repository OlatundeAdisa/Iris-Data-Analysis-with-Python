{
 "cells": [
  {
   "cell_type": "code",
   "execution_count": 1,
   "id": "48cd508d",
   "metadata": {},
   "outputs": [],
   "source": [
    "# functions\n",
    "\n",
    "def sum(x, y):\n",
    "    return(x+y)"
   ]
  },
  {
   "cell_type": "code",
   "execution_count": 2,
   "id": "9e6fc045",
   "metadata": {},
   "outputs": [
    {
     "data": {
      "text/plain": [
       "6"
      ]
     },
     "execution_count": 2,
     "metadata": {},
     "output_type": "execute_result"
    }
   ],
   "source": [
    "sum(2, 4)"
   ]
  },
  {
   "cell_type": "code",
   "execution_count": 3,
   "id": "e93e703a",
   "metadata": {},
   "outputs": [],
   "source": [
    "list = [2, \"fksjf\", 3]"
   ]
  },
  {
   "cell_type": "code",
   "execution_count": 4,
   "id": "8f9625ba",
   "metadata": {},
   "outputs": [],
   "source": [
    "tuple = (3, 78, 990)"
   ]
  },
  {
   "cell_type": "code",
   "execution_count": 6,
   "id": "314152aa",
   "metadata": {},
   "outputs": [],
   "source": [
    "set ={ 4, 6, 8}"
   ]
  },
  {
   "cell_type": "code",
   "execution_count": 8,
   "id": "eccaeeb9",
   "metadata": {},
   "outputs": [],
   "source": [
    "multiple_lists =[[3, 2, 0, 1], [0, 3, 7, 2], [7,14,6, 15]]"
   ]
  },
  {
   "cell_type": "code",
   "execution_count": 9,
   "id": "4ade0827",
   "metadata": {},
   "outputs": [
    {
     "data": {
      "text/plain": [
       "[3, 2, 0, 1]"
      ]
     },
     "execution_count": 9,
     "metadata": {},
     "output_type": "execute_result"
    }
   ],
   "source": [
    "multiple_lists[0]"
   ]
  },
  {
   "cell_type": "code",
   "execution_count": 10,
   "id": "dac8d8f2",
   "metadata": {},
   "outputs": [
    {
     "data": {
      "text/plain": [
       "[0, 3, 7, 2]"
      ]
     },
     "execution_count": 10,
     "metadata": {},
     "output_type": "execute_result"
    }
   ],
   "source": [
    "multiple_lists[1]"
   ]
  },
  {
   "cell_type": "code",
   "execution_count": 12,
   "id": "3f03c3ea",
   "metadata": {},
   "outputs": [],
   "source": [
    "#Dictionaries - key value pairs.\n",
    "\n",
    "dict_multi_list ={'firstlist':[3, 2, 0, 1], \n",
    "                  'secondlist': [0, 3, 7, 2],\n",
    "                  'thirdlist':[7,14,6, 15]} "
   ]
  },
  {
   "cell_type": "code",
   "execution_count": 13,
   "id": "dfcfb5a3",
   "metadata": {},
   "outputs": [
    {
     "data": {
      "text/plain": [
       "{'firstlist': [3, 2, 0, 1],\n",
       " 'secondlist': [0, 3, 7, 2],\n",
       " 'thirdlist': [7, 14, 6, 15]}"
      ]
     },
     "metadata": {},
     "output_type": "display_data"
    }
   ],
   "source": [
    "display(dict_multi_list)"
   ]
  },
  {
   "cell_type": "code",
   "execution_count": 14,
   "id": "4940e49a",
   "metadata": {},
   "outputs": [],
   "source": [
    "#pandas\n",
    "#numpy"
   ]
  },
  {
   "cell_type": "code",
   "execution_count": 21,
   "id": "3ed5fdfb",
   "metadata": {},
   "outputs": [],
   "source": [
    "import pandas as pd\n",
    "import numpy as np"
   ]
  },
  {
   "cell_type": "code",
   "execution_count": 22,
   "id": "462f4b1c",
   "metadata": {},
   "outputs": [],
   "source": [
    "list_df = pd.DataFrame(dict_multi_list)"
   ]
  },
  {
   "cell_type": "code",
   "execution_count": 23,
   "id": "92316461",
   "metadata": {},
   "outputs": [
    {
     "data": {
      "text/html": [
       "<div>\n",
       "<style scoped>\n",
       "    .dataframe tbody tr th:only-of-type {\n",
       "        vertical-align: middle;\n",
       "    }\n",
       "\n",
       "    .dataframe tbody tr th {\n",
       "        vertical-align: top;\n",
       "    }\n",
       "\n",
       "    .dataframe thead th {\n",
       "        text-align: right;\n",
       "    }\n",
       "</style>\n",
       "<table border=\"1\" class=\"dataframe\">\n",
       "  <thead>\n",
       "    <tr style=\"text-align: right;\">\n",
       "      <th></th>\n",
       "      <th>firstlist</th>\n",
       "      <th>secondlist</th>\n",
       "      <th>thirdlist</th>\n",
       "    </tr>\n",
       "  </thead>\n",
       "  <tbody>\n",
       "    <tr>\n",
       "      <th>0</th>\n",
       "      <td>3</td>\n",
       "      <td>0</td>\n",
       "      <td>7</td>\n",
       "    </tr>\n",
       "    <tr>\n",
       "      <th>1</th>\n",
       "      <td>2</td>\n",
       "      <td>3</td>\n",
       "      <td>14</td>\n",
       "    </tr>\n",
       "    <tr>\n",
       "      <th>2</th>\n",
       "      <td>0</td>\n",
       "      <td>7</td>\n",
       "      <td>6</td>\n",
       "    </tr>\n",
       "    <tr>\n",
       "      <th>3</th>\n",
       "      <td>1</td>\n",
       "      <td>2</td>\n",
       "      <td>15</td>\n",
       "    </tr>\n",
       "  </tbody>\n",
       "</table>\n",
       "</div>"
      ],
      "text/plain": [
       "   firstlist  secondlist  thirdlist\n",
       "0          3           0          7\n",
       "1          2           3         14\n",
       "2          0           7          6\n",
       "3          1           2         15"
      ]
     },
     "execution_count": 23,
     "metadata": {},
     "output_type": "execute_result"
    }
   ],
   "source": [
    "list_df"
   ]
  },
  {
   "cell_type": "code",
   "execution_count": 24,
   "id": "09681fd8",
   "metadata": {},
   "outputs": [
    {
     "name": "stdout",
     "output_type": "stream",
     "text": [
      "firstlist     3\n",
      "secondlist    0\n",
      "thirdlist     7\n",
      "Name: 0, dtype: int64\n"
     ]
    }
   ],
   "source": [
    "print(list_df.loc[0])"
   ]
  },
  {
   "cell_type": "code",
   "execution_count": 29,
   "id": "96027672",
   "metadata": {},
   "outputs": [
    {
     "name": "stdout",
     "output_type": "stream",
     "text": [
      "   firstlist  secondlist  thirdlist\n",
      "0          3           0          7\n",
      "2          0           7          6\n"
     ]
    }
   ],
   "source": [
    "print(list_df.loc[[0,2]])"
   ]
  },
  {
   "cell_type": "code",
   "execution_count": 30,
   "id": "8ff39e37",
   "metadata": {},
   "outputs": [],
   "source": [
    "list_df_row_values = pd.DataFrame(dict_multi_list, index=[\"row1\", \"row2\", \"row3\", \"row4\"])"
   ]
  },
  {
   "cell_type": "code",
   "execution_count": 31,
   "id": "3ce65e2a",
   "metadata": {},
   "outputs": [
    {
     "data": {
      "text/html": [
       "<div>\n",
       "<style scoped>\n",
       "    .dataframe tbody tr th:only-of-type {\n",
       "        vertical-align: middle;\n",
       "    }\n",
       "\n",
       "    .dataframe tbody tr th {\n",
       "        vertical-align: top;\n",
       "    }\n",
       "\n",
       "    .dataframe thead th {\n",
       "        text-align: right;\n",
       "    }\n",
       "</style>\n",
       "<table border=\"1\" class=\"dataframe\">\n",
       "  <thead>\n",
       "    <tr style=\"text-align: right;\">\n",
       "      <th></th>\n",
       "      <th>firstlist</th>\n",
       "      <th>secondlist</th>\n",
       "      <th>thirdlist</th>\n",
       "    </tr>\n",
       "  </thead>\n",
       "  <tbody>\n",
       "    <tr>\n",
       "      <th>row1</th>\n",
       "      <td>3</td>\n",
       "      <td>0</td>\n",
       "      <td>7</td>\n",
       "    </tr>\n",
       "    <tr>\n",
       "      <th>row2</th>\n",
       "      <td>2</td>\n",
       "      <td>3</td>\n",
       "      <td>14</td>\n",
       "    </tr>\n",
       "    <tr>\n",
       "      <th>row3</th>\n",
       "      <td>0</td>\n",
       "      <td>7</td>\n",
       "      <td>6</td>\n",
       "    </tr>\n",
       "    <tr>\n",
       "      <th>row4</th>\n",
       "      <td>1</td>\n",
       "      <td>2</td>\n",
       "      <td>15</td>\n",
       "    </tr>\n",
       "  </tbody>\n",
       "</table>\n",
       "</div>"
      ],
      "text/plain": [
       "      firstlist  secondlist  thirdlist\n",
       "row1          3           0          7\n",
       "row2          2           3         14\n",
       "row3          0           7          6\n",
       "row4          1           2         15"
      ]
     },
     "execution_count": 31,
     "metadata": {},
     "output_type": "execute_result"
    }
   ],
   "source": [
    "list_df_row_values"
   ]
  },
  {
   "cell_type": "code",
   "execution_count": 32,
   "id": "04545216",
   "metadata": {},
   "outputs": [],
   "source": [
    "dict_multi_list1 ={'firstlist':[3, 2, 0, 1], \n",
    "                  'secondlist': [0, 3, 7, 2],\n",
    "                  'thirdlist':[7,14,6, 15]} "
   ]
  },
  {
   "cell_type": "code",
   "execution_count": 33,
   "id": "bba1807b",
   "metadata": {},
   "outputs": [],
   "source": [
    "dict_multi_list2 ={'firstlist2':[3, 2, 0, 1], \n",
    "                  'secondlist2': [0, 3, 7, 2],\n",
    "                  'thirdlist2':[7,14,6, 15]} "
   ]
  },
  {
   "cell_type": "code",
   "execution_count": 34,
   "id": "b956f84b",
   "metadata": {},
   "outputs": [],
   "source": [
    "df1 = pd.DataFrame(dict_multi_list1)\n",
    "df2 = pd.DataFrame(dict_multi_list2)"
   ]
  },
  {
   "cell_type": "code",
   "execution_count": 35,
   "id": "3ac68def",
   "metadata": {},
   "outputs": [
    {
     "data": {
      "text/html": [
       "<div>\n",
       "<style scoped>\n",
       "    .dataframe tbody tr th:only-of-type {\n",
       "        vertical-align: middle;\n",
       "    }\n",
       "\n",
       "    .dataframe tbody tr th {\n",
       "        vertical-align: top;\n",
       "    }\n",
       "\n",
       "    .dataframe thead th {\n",
       "        text-align: right;\n",
       "    }\n",
       "</style>\n",
       "<table border=\"1\" class=\"dataframe\">\n",
       "  <thead>\n",
       "    <tr style=\"text-align: right;\">\n",
       "      <th></th>\n",
       "      <th>firstlist</th>\n",
       "      <th>secondlist</th>\n",
       "      <th>thirdlist</th>\n",
       "    </tr>\n",
       "  </thead>\n",
       "  <tbody>\n",
       "    <tr>\n",
       "      <th>0</th>\n",
       "      <td>3</td>\n",
       "      <td>0</td>\n",
       "      <td>7</td>\n",
       "    </tr>\n",
       "    <tr>\n",
       "      <th>1</th>\n",
       "      <td>2</td>\n",
       "      <td>3</td>\n",
       "      <td>14</td>\n",
       "    </tr>\n",
       "    <tr>\n",
       "      <th>2</th>\n",
       "      <td>0</td>\n",
       "      <td>7</td>\n",
       "      <td>6</td>\n",
       "    </tr>\n",
       "    <tr>\n",
       "      <th>3</th>\n",
       "      <td>1</td>\n",
       "      <td>2</td>\n",
       "      <td>15</td>\n",
       "    </tr>\n",
       "  </tbody>\n",
       "</table>\n",
       "</div>"
      ],
      "text/plain": [
       "   firstlist  secondlist  thirdlist\n",
       "0          3           0          7\n",
       "1          2           3         14\n",
       "2          0           7          6\n",
       "3          1           2         15"
      ]
     },
     "metadata": {},
     "output_type": "display_data"
    },
    {
     "data": {
      "text/html": [
       "<div>\n",
       "<style scoped>\n",
       "    .dataframe tbody tr th:only-of-type {\n",
       "        vertical-align: middle;\n",
       "    }\n",
       "\n",
       "    .dataframe tbody tr th {\n",
       "        vertical-align: top;\n",
       "    }\n",
       "\n",
       "    .dataframe thead th {\n",
       "        text-align: right;\n",
       "    }\n",
       "</style>\n",
       "<table border=\"1\" class=\"dataframe\">\n",
       "  <thead>\n",
       "    <tr style=\"text-align: right;\">\n",
       "      <th></th>\n",
       "      <th>firstlist2</th>\n",
       "      <th>secondlist2</th>\n",
       "      <th>thirdlist2</th>\n",
       "    </tr>\n",
       "  </thead>\n",
       "  <tbody>\n",
       "    <tr>\n",
       "      <th>0</th>\n",
       "      <td>3</td>\n",
       "      <td>0</td>\n",
       "      <td>7</td>\n",
       "    </tr>\n",
       "    <tr>\n",
       "      <th>1</th>\n",
       "      <td>2</td>\n",
       "      <td>3</td>\n",
       "      <td>14</td>\n",
       "    </tr>\n",
       "    <tr>\n",
       "      <th>2</th>\n",
       "      <td>0</td>\n",
       "      <td>7</td>\n",
       "      <td>6</td>\n",
       "    </tr>\n",
       "    <tr>\n",
       "      <th>3</th>\n",
       "      <td>1</td>\n",
       "      <td>2</td>\n",
       "      <td>15</td>\n",
       "    </tr>\n",
       "  </tbody>\n",
       "</table>\n",
       "</div>"
      ],
      "text/plain": [
       "   firstlist2  secondlist2  thirdlist2\n",
       "0           3            0           7\n",
       "1           2            3          14\n",
       "2           0            7           6\n",
       "3           1            2          15"
      ]
     },
     "metadata": {},
     "output_type": "display_data"
    }
   ],
   "source": [
    "display(df1, df2)"
   ]
  },
  {
   "cell_type": "code",
   "execution_count": 36,
   "id": "09c5c3e9",
   "metadata": {},
   "outputs": [
    {
     "data": {
      "text/html": [
       "<div>\n",
       "<style scoped>\n",
       "    .dataframe tbody tr th:only-of-type {\n",
       "        vertical-align: middle;\n",
       "    }\n",
       "\n",
       "    .dataframe tbody tr th {\n",
       "        vertical-align: top;\n",
       "    }\n",
       "\n",
       "    .dataframe thead th {\n",
       "        text-align: right;\n",
       "    }\n",
       "</style>\n",
       "<table border=\"1\" class=\"dataframe\">\n",
       "  <thead>\n",
       "    <tr style=\"text-align: right;\">\n",
       "      <th></th>\n",
       "      <th>firstlist</th>\n",
       "      <th>secondlist</th>\n",
       "      <th>thirdlist</th>\n",
       "      <th>firstlist2</th>\n",
       "      <th>secondlist2</th>\n",
       "      <th>thirdlist2</th>\n",
       "    </tr>\n",
       "  </thead>\n",
       "  <tbody>\n",
       "    <tr>\n",
       "      <th>0</th>\n",
       "      <td>3.0</td>\n",
       "      <td>0.0</td>\n",
       "      <td>7.0</td>\n",
       "      <td>NaN</td>\n",
       "      <td>NaN</td>\n",
       "      <td>NaN</td>\n",
       "    </tr>\n",
       "    <tr>\n",
       "      <th>1</th>\n",
       "      <td>2.0</td>\n",
       "      <td>3.0</td>\n",
       "      <td>14.0</td>\n",
       "      <td>NaN</td>\n",
       "      <td>NaN</td>\n",
       "      <td>NaN</td>\n",
       "    </tr>\n",
       "    <tr>\n",
       "      <th>2</th>\n",
       "      <td>0.0</td>\n",
       "      <td>7.0</td>\n",
       "      <td>6.0</td>\n",
       "      <td>NaN</td>\n",
       "      <td>NaN</td>\n",
       "      <td>NaN</td>\n",
       "    </tr>\n",
       "    <tr>\n",
       "      <th>3</th>\n",
       "      <td>1.0</td>\n",
       "      <td>2.0</td>\n",
       "      <td>15.0</td>\n",
       "      <td>NaN</td>\n",
       "      <td>NaN</td>\n",
       "      <td>NaN</td>\n",
       "    </tr>\n",
       "    <tr>\n",
       "      <th>0</th>\n",
       "      <td>NaN</td>\n",
       "      <td>NaN</td>\n",
       "      <td>NaN</td>\n",
       "      <td>3.0</td>\n",
       "      <td>0.0</td>\n",
       "      <td>7.0</td>\n",
       "    </tr>\n",
       "    <tr>\n",
       "      <th>1</th>\n",
       "      <td>NaN</td>\n",
       "      <td>NaN</td>\n",
       "      <td>NaN</td>\n",
       "      <td>2.0</td>\n",
       "      <td>3.0</td>\n",
       "      <td>14.0</td>\n",
       "    </tr>\n",
       "    <tr>\n",
       "      <th>2</th>\n",
       "      <td>NaN</td>\n",
       "      <td>NaN</td>\n",
       "      <td>NaN</td>\n",
       "      <td>0.0</td>\n",
       "      <td>7.0</td>\n",
       "      <td>6.0</td>\n",
       "    </tr>\n",
       "    <tr>\n",
       "      <th>3</th>\n",
       "      <td>NaN</td>\n",
       "      <td>NaN</td>\n",
       "      <td>NaN</td>\n",
       "      <td>1.0</td>\n",
       "      <td>2.0</td>\n",
       "      <td>15.0</td>\n",
       "    </tr>\n",
       "  </tbody>\n",
       "</table>\n",
       "</div>"
      ],
      "text/plain": [
       "   firstlist  secondlist  thirdlist  firstlist2  secondlist2  thirdlist2\n",
       "0        3.0         0.0        7.0         NaN          NaN         NaN\n",
       "1        2.0         3.0       14.0         NaN          NaN         NaN\n",
       "2        0.0         7.0        6.0         NaN          NaN         NaN\n",
       "3        1.0         2.0       15.0         NaN          NaN         NaN\n",
       "0        NaN         NaN        NaN         3.0          0.0         7.0\n",
       "1        NaN         NaN        NaN         2.0          3.0        14.0\n",
       "2        NaN         NaN        NaN         0.0          7.0         6.0\n",
       "3        NaN         NaN        NaN         1.0          2.0        15.0"
      ]
     },
     "execution_count": 36,
     "metadata": {},
     "output_type": "execute_result"
    }
   ],
   "source": [
    "pd.concat((df1, df2), axis = 0)"
   ]
  },
  {
   "cell_type": "code",
   "execution_count": 37,
   "id": "8734d1bb",
   "metadata": {},
   "outputs": [
    {
     "data": {
      "text/html": [
       "<div>\n",
       "<style scoped>\n",
       "    .dataframe tbody tr th:only-of-type {\n",
       "        vertical-align: middle;\n",
       "    }\n",
       "\n",
       "    .dataframe tbody tr th {\n",
       "        vertical-align: top;\n",
       "    }\n",
       "\n",
       "    .dataframe thead th {\n",
       "        text-align: right;\n",
       "    }\n",
       "</style>\n",
       "<table border=\"1\" class=\"dataframe\">\n",
       "  <thead>\n",
       "    <tr style=\"text-align: right;\">\n",
       "      <th></th>\n",
       "      <th>firstlist</th>\n",
       "      <th>secondlist</th>\n",
       "      <th>thirdlist</th>\n",
       "      <th>firstlist2</th>\n",
       "      <th>secondlist2</th>\n",
       "      <th>thirdlist2</th>\n",
       "    </tr>\n",
       "  </thead>\n",
       "  <tbody>\n",
       "    <tr>\n",
       "      <th>0</th>\n",
       "      <td>3</td>\n",
       "      <td>0</td>\n",
       "      <td>7</td>\n",
       "      <td>3</td>\n",
       "      <td>0</td>\n",
       "      <td>7</td>\n",
       "    </tr>\n",
       "    <tr>\n",
       "      <th>1</th>\n",
       "      <td>2</td>\n",
       "      <td>3</td>\n",
       "      <td>14</td>\n",
       "      <td>2</td>\n",
       "      <td>3</td>\n",
       "      <td>14</td>\n",
       "    </tr>\n",
       "    <tr>\n",
       "      <th>2</th>\n",
       "      <td>0</td>\n",
       "      <td>7</td>\n",
       "      <td>6</td>\n",
       "      <td>0</td>\n",
       "      <td>7</td>\n",
       "      <td>6</td>\n",
       "    </tr>\n",
       "    <tr>\n",
       "      <th>3</th>\n",
       "      <td>1</td>\n",
       "      <td>2</td>\n",
       "      <td>15</td>\n",
       "      <td>1</td>\n",
       "      <td>2</td>\n",
       "      <td>15</td>\n",
       "    </tr>\n",
       "  </tbody>\n",
       "</table>\n",
       "</div>"
      ],
      "text/plain": [
       "   firstlist  secondlist  thirdlist  firstlist2  secondlist2  thirdlist2\n",
       "0          3           0          7           3            0           7\n",
       "1          2           3         14           2            3          14\n",
       "2          0           7          6           0            7           6\n",
       "3          1           2         15           1            2          15"
      ]
     },
     "execution_count": 37,
     "metadata": {},
     "output_type": "execute_result"
    }
   ],
   "source": [
    "pd.concat((df1, df2), axis = 1)"
   ]
  },
  {
   "cell_type": "code",
   "execution_count": 38,
   "id": "9c0a63c1",
   "metadata": {},
   "outputs": [],
   "source": [
    "list1 = [4, 8, 9]"
   ]
  },
  {
   "cell_type": "code",
   "execution_count": 39,
   "id": "eb5bc7c4",
   "metadata": {},
   "outputs": [
    {
     "data": {
      "text/plain": [
       "9"
      ]
     },
     "execution_count": 39,
     "metadata": {},
     "output_type": "execute_result"
    }
   ],
   "source": [
    "list1.pop()"
   ]
  },
  {
   "cell_type": "code",
   "execution_count": 40,
   "id": "e0114e13",
   "metadata": {},
   "outputs": [
    {
     "data": {
      "text/plain": [
       "[4, 8, 4, 8]"
      ]
     },
     "execution_count": 40,
     "metadata": {},
     "output_type": "execute_result"
    }
   ],
   "source": [
    "list1*2"
   ]
  },
  {
   "cell_type": "code",
   "execution_count": 41,
   "id": "753d09f9",
   "metadata": {},
   "outputs": [],
   "source": [
    "list_np =np.array([5, 8, 19, 23, 24])"
   ]
  },
  {
   "cell_type": "code",
   "execution_count": 42,
   "id": "2bed5544",
   "metadata": {},
   "outputs": [
    {
     "data": {
      "text/plain": [
       "array([ 5,  8, 19, 23, 24])"
      ]
     },
     "execution_count": 42,
     "metadata": {},
     "output_type": "execute_result"
    }
   ],
   "source": [
    "list_np"
   ]
  },
  {
   "cell_type": "code",
   "execution_count": 43,
   "id": "61eec0ec",
   "metadata": {},
   "outputs": [
    {
     "data": {
      "text/plain": [
       "24"
      ]
     },
     "execution_count": 43,
     "metadata": {},
     "output_type": "execute_result"
    }
   ],
   "source": [
    "list_np.max()"
   ]
  },
  {
   "cell_type": "code",
   "execution_count": 44,
   "id": "b10fac33",
   "metadata": {},
   "outputs": [
    {
     "data": {
      "text/plain": [
       "array([10, 16, 38, 46, 48])"
      ]
     },
     "execution_count": 44,
     "metadata": {},
     "output_type": "execute_result"
    }
   ],
   "source": [
    "list_np*2"
   ]
  },
  {
   "cell_type": "code",
   "execution_count": 45,
   "id": "1524d57b",
   "metadata": {},
   "outputs": [],
   "source": [
    "listnpplus2 = list_np + 2"
   ]
  },
  {
   "cell_type": "code",
   "execution_count": 46,
   "id": "3149aeee",
   "metadata": {},
   "outputs": [
    {
     "data": {
      "text/plain": [
       "array([ 7, 10, 21, 25, 26])"
      ]
     },
     "execution_count": 46,
     "metadata": {},
     "output_type": "execute_result"
    }
   ],
   "source": [
    "listnpplus2"
   ]
  },
  {
   "cell_type": "code",
   "execution_count": 47,
   "id": "ca4b7963",
   "metadata": {},
   "outputs": [],
   "source": [
    "listzeros = np.zeros(4)"
   ]
  },
  {
   "cell_type": "code",
   "execution_count": 48,
   "id": "2c233cd6",
   "metadata": {},
   "outputs": [
    {
     "data": {
      "text/plain": [
       "array([0., 0., 0., 0.])"
      ]
     },
     "execution_count": 48,
     "metadata": {},
     "output_type": "execute_result"
    }
   ],
   "source": [
    "listzeros"
   ]
  },
  {
   "cell_type": "code",
   "execution_count": 49,
   "id": "d21be901",
   "metadata": {},
   "outputs": [],
   "source": [
    "listzeros = np.ones(4)"
   ]
  },
  {
   "cell_type": "code",
   "execution_count": 50,
   "id": "f040cbec",
   "metadata": {},
   "outputs": [
    {
     "data": {
      "text/plain": [
       "array([1., 1., 1., 1.])"
      ]
     },
     "execution_count": 50,
     "metadata": {},
     "output_type": "execute_result"
    }
   ],
   "source": [
    "listzeros"
   ]
  },
  {
   "cell_type": "code",
   "execution_count": null,
   "id": "06fd93de",
   "metadata": {},
   "outputs": [],
   "source": []
  }
 ],
 "metadata": {
  "kernelspec": {
   "display_name": "Python 3 (ipykernel)",
   "language": "python",
   "name": "python3"
  },
  "language_info": {
   "codemirror_mode": {
    "name": "ipython",
    "version": 3
   },
   "file_extension": ".py",
   "mimetype": "text/x-python",
   "name": "python",
   "nbconvert_exporter": "python",
   "pygments_lexer": "ipython3",
   "version": "3.11.4"
  }
 },
 "nbformat": 4,
 "nbformat_minor": 5
}
